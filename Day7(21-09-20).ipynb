{
 "cells": [
  {
   "cell_type": "code",
   "execution_count": null,
   "metadata": {
    "id": "aghVZVpGf748"
   },
   "outputs": [],
   "source": [
    "## task1: generate math tables from upto given range\n",
    "## input: 5\n",
    "# 2,3,4,5 tables"
   ]
  },
  {
   "cell_type": "code",
   "execution_count": null,
   "metadata": {
    "colab": {
     "base_uri": "https://localhost:8080/",
     "height": 746
    },
    "executionInfo": {
     "elapsed": 12029,
     "status": "ok",
     "timestamp": 1601611841128,
     "user": {
      "displayName": "tejaswini tata",
      "photoUrl": "https://lh3.googleusercontent.com/a-/AOh14Ghjy-Y6nicJUYIPvUl-_GF9Owl-XY1RHENoBMMX=s64",
      "userId": "02334631379730592087"
     },
     "user_tz": -330
    },
    "id": "6M53j8mUgMWl",
    "outputId": "376c5541-9599-4e5a-be95-081ac69988cf"
   },
   "outputs": [
    {
     "name": "stdout",
     "output_type": "stream",
     "text": [
      "5\n",
      "2 X 1 = 2\n",
      "2 X 2 = 4\n",
      "2 X 3 = 6\n",
      "2 X 4 = 8\n",
      "2 X 5 = 10\n",
      "2 X 6 = 12\n",
      "2 X 7 = 14\n",
      "2 X 8 = 16\n",
      "2 X 9 = 18\n",
      "2 X 10 = 20\n",
      "3 X 1 = 3\n",
      "3 X 2 = 6\n",
      "3 X 3 = 9\n",
      "3 X 4 = 12\n",
      "3 X 5 = 15\n",
      "3 X 6 = 18\n",
      "3 X 7 = 21\n",
      "3 X 8 = 24\n",
      "3 X 9 = 27\n",
      "3 X 10 = 30\n",
      "4 X 1 = 4\n",
      "4 X 2 = 8\n",
      "4 X 3 = 12\n",
      "4 X 4 = 16\n",
      "4 X 5 = 20\n",
      "4 X 6 = 24\n",
      "4 X 7 = 28\n",
      "4 X 8 = 32\n",
      "4 X 9 = 36\n",
      "4 X 10 = 40\n",
      "5 X 1 = 5\n",
      "5 X 2 = 10\n",
      "5 X 3 = 15\n",
      "5 X 4 = 20\n",
      "5 X 5 = 25\n",
      "5 X 6 = 30\n",
      "5 X 7 = 35\n",
      "5 X 8 = 40\n",
      "5 X 9 = 45\n",
      "5 X 10 = 50\n"
     ]
    }
   ],
   "source": [
    "n  = int(input())\n",
    "for i in range(2,n+1):\n",
    "    for j in range(1,11):\n",
    "        print(i,'X',j,'=',i*j)"
   ]
  },
  {
   "cell_type": "code",
   "execution_count": null,
   "metadata": {
    "colab": {
     "base_uri": "https://localhost:8080/",
     "height": 52
    },
    "executionInfo": {
     "elapsed": 5506,
     "status": "ok",
     "timestamp": 1601611893330,
     "user": {
      "displayName": "tejaswini tata",
      "photoUrl": "https://lh3.googleusercontent.com/a-/AOh14Ghjy-Y6nicJUYIPvUl-_GF9Owl-XY1RHENoBMMX=s64",
      "userId": "02334631379730592087"
     },
     "user_tz": -330
    },
    "id": "97EYiPh9gOuE",
    "outputId": "e039701b-4d7d-4d30-f0bf-1ab8de53aac6"
   },
   "outputs": [
    {
     "name": "stdout",
     "output_type": "stream",
     "text": [
      "enter start value: 5\n",
      "6 8 10 12 14 16 18 20 22 24 26 28 30 32 34 36 38 40 42 44 46 48 50 52 54 56 58 60 62 64 66 68 70 72 74 76 78 80 82 84 86 88 90 92 94 96 98 100 "
     ]
    }
   ],
   "source": [
    "#task2: generate even number upto 100(use range with 3 args)\n",
    "#input: enter start value:5\n",
    "#ouptpu:6,8,10,...,100\n",
    "n=int(input(\"enter start value: \"))\n",
    "for i in range(n,101,2):\n",
    "    if(n%2 is 0):\n",
    "        print(i,end=\" \")\n",
    "    else:\n",
    "        print(i+1,end=\" \")"
   ]
  },
  {
   "cell_type": "code",
   "execution_count": null,
   "metadata": {
    "colab": {
     "base_uri": "https://localhost:8080/",
     "height": 52
    },
    "executionInfo": {
     "elapsed": 17532,
     "status": "ok",
     "timestamp": 1601611923882,
     "user": {
      "displayName": "tejaswini tata",
      "photoUrl": "https://lh3.googleusercontent.com/a-/AOh14Ghjy-Y6nicJUYIPvUl-_GF9Owl-XY1RHENoBMMX=s64",
      "userId": "02334631379730592087"
     },
     "user_tz": -330
    },
    "id": "i71EDLUXgSIp",
    "outputId": "72b96b62-1234-4e2f-8c97-1f88d8b754aa"
   },
   "outputs": [
    {
     "name": "stdout",
     "output_type": "stream",
     "text": [
      "enter start value5\n",
      "6,8,10,12,14,16,18,20,22,24,26,28,30,32,34,36,38,40,42,44,46,48,50,52,54,56,58,60,62,64,66,68,70,72,74,76,78,80,82,84,86,88,90,92,94,96,98,100,"
     ]
    }
   ],
   "source": [
    "a=int(input('enter start value'))\n",
    "if(a%2==0):\n",
    "    for x in range(a,101,2):\n",
    "        print(x,end=',')\n",
    "else:\n",
    "    for x in range(a+1,101,2):\n",
    "        print(x,end=',')"
   ]
  },
  {
   "cell_type": "code",
   "execution_count": null,
   "metadata": {
    "colab": {
     "base_uri": "https://localhost:8080/",
     "height": 52
    },
    "executionInfo": {
     "elapsed": 9173,
     "status": "ok",
     "timestamp": 1601611935920,
     "user": {
      "displayName": "tejaswini tata",
      "photoUrl": "https://lh3.googleusercontent.com/a-/AOh14Ghjy-Y6nicJUYIPvUl-_GF9Owl-XY1RHENoBMMX=s64",
      "userId": "02334631379730592087"
     },
     "user_tz": -330
    },
    "id": "O4MiuTECgjzi",
    "outputId": "35f0f82d-7f61-4c43-f403-9ccd71114bce"
   },
   "outputs": [
    {
     "name": "stdout",
     "output_type": "stream",
     "text": [
      "5\n",
      "5 7 9 11 13 15 17 19 21 23 25 27 29 31 33 35 37 39 41 43 45 47 49 51 53 55 57 59 61 63 65 67 69 71 73 75 77 79 81 83 85 87 89 91 93 95 97 99 "
     ]
    }
   ],
   "source": [
    "n = int(input())\n",
    "for x in range(n,101,2):\n",
    "     print(x,end=' ')"
   ]
  },
  {
   "cell_type": "markdown",
   "metadata": {
    "id": "TZE9Ll-V62HZ"
   },
   "source": [
    "\n",
    "Functions:\n",
    "- it is set of statements\n",
    "- used to perform a particular task (or) it performs specific task\n",
    "- reuse the code (or) we can use same function many times\n",
    "- we can pass arguments and we can return result\n",
    "- we have 2 diff types\n",
    "     - userdefined function\n",
    "     - predefined or library or builtin functions #### User Defined functions:\n",
    "\n",
    "- user can define his own functionality\n",
    "\n",
    "syntax:\n",
    "- def function_name(param1,param2,...,):\n",
    "- body of tyhe loop \n",
    "- we can implement this UserDefined functions in 4 diff ways\n",
    "those are\n",
    "     - no arguments and no return value.\n",
    "     - no arguments and a return value.\n",
    "     - with arguments and no return value.\n",
    "     - with arguments and a return value."
   ]
  },
  {
   "cell_type": "code",
   "execution_count": 1,
   "metadata": {
    "executionInfo": {
     "elapsed": 1675,
     "status": "ok",
     "timestamp": 1601619103971,
     "user": {
      "displayName": "tejaswini tata",
      "photoUrl": "https://lh3.googleusercontent.com/a-/AOh14Ghjy-Y6nicJUYIPvUl-_GF9Owl-XY1RHENoBMMX=s64",
      "userId": "02334631379730592087"
     },
     "user_tz": -330
    },
    "id": "w1whca0n7k_o"
   },
   "outputs": [],
   "source": [
    "# no arguments and no return value\n",
    "\n",
    "def hello():\n",
    "    print('Hi , iam from Hello()')"
   ]
  },
  {
   "cell_type": "code",
   "execution_count": 2,
   "metadata": {
    "colab": {
     "base_uri": "https://localhost:8080/",
     "height": 35
    },
    "executionInfo": {
     "elapsed": 1666,
     "status": "ok",
     "timestamp": 1601619103975,
     "user": {
      "displayName": "tejaswini tata",
      "photoUrl": "https://lh3.googleusercontent.com/a-/AOh14Ghjy-Y6nicJUYIPvUl-_GF9Owl-XY1RHENoBMMX=s64",
      "userId": "02334631379730592087"
     },
     "user_tz": -330
    },
    "id": "CPqq_PvC79_V",
    "outputId": "2311d6ac-e071-48fa-f539-5f6eef6d9a37"
   },
   "outputs": [
    {
     "name": "stdout",
     "output_type": "stream",
     "text": [
      "Hi , iam from Hello()\n"
     ]
    }
   ],
   "source": [
    "\n",
    "hello()"
   ]
  },
  {
   "cell_type": "code",
   "execution_count": 3,
   "metadata": {
    "executionInfo": {
     "elapsed": 1916,
     "status": "ok",
     "timestamp": 1601619115172,
     "user": {
      "displayName": "tejaswini tata",
      "photoUrl": "https://lh3.googleusercontent.com/a-/AOh14Ghjy-Y6nicJUYIPvUl-_GF9Owl-XY1RHENoBMMX=s64",
      "userId": "02334631379730592087"
     },
     "user_tz": -330
    },
    "id": "E7uDDAjS8Ame"
   },
   "outputs": [],
   "source": [
    "# no arguments and a return value\n",
    "def Hellow1():\n",
    "    return 'i am from Hellow1'"
   ]
  },
  {
   "cell_type": "code",
   "execution_count": 4,
   "metadata": {
    "colab": {
     "base_uri": "https://localhost:8080/",
     "height": 36
    },
    "executionInfo": {
     "elapsed": 1380,
     "status": "ok",
     "timestamp": 1601619124267,
     "user": {
      "displayName": "tejaswini tata",
      "photoUrl": "https://lh3.googleusercontent.com/a-/AOh14Ghjy-Y6nicJUYIPvUl-_GF9Owl-XY1RHENoBMMX=s64",
      "userId": "02334631379730592087"
     },
     "user_tz": -330
    },
    "id": "RnqO24qy8DTF",
    "outputId": "0e050d4c-8057-408a-b995-d0db24e74d3c"
   },
   "outputs": [
    {
     "data": {
      "application/vnd.google.colaboratory.intrinsic+json": {
       "type": "string"
      },
      "text/plain": [
       "'i am from Hellow1'"
      ]
     },
     "execution_count": 4,
     "metadata": {
      "tags": []
     },
     "output_type": "execute_result"
    }
   ],
   "source": [
    "Hellow1()"
   ]
  },
  {
   "cell_type": "code",
   "execution_count": 5,
   "metadata": {
    "executionInfo": {
     "elapsed": 2296,
     "status": "ok",
     "timestamp": 1601619150619,
     "user": {
      "displayName": "tejaswini tata",
      "photoUrl": "https://lh3.googleusercontent.com/a-/AOh14Ghjy-Y6nicJUYIPvUl-_GF9Owl-XY1RHENoBMMX=s64",
      "userId": "02334631379730592087"
     },
     "user_tz": -330
    },
    "id": "Wzy7JHkI8Fp1"
   },
   "outputs": [],
   "source": [
    "# with arguments and no return value.\n",
    "def add(n1,n2):\n",
    "    print('sum of n1 and n2 is:',n1+n2)"
   ]
  },
  {
   "cell_type": "code",
   "execution_count": 6,
   "metadata": {
    "colab": {
     "base_uri": "https://localhost:8080/",
     "height": 35
    },
    "executionInfo": {
     "elapsed": 1759,
     "status": "ok",
     "timestamp": 1601619160586,
     "user": {
      "displayName": "tejaswini tata",
      "photoUrl": "https://lh3.googleusercontent.com/a-/AOh14Ghjy-Y6nicJUYIPvUl-_GF9Owl-XY1RHENoBMMX=s64",
      "userId": "02334631379730592087"
     },
     "user_tz": -330
    },
    "id": "2dkr577n8L1t",
    "outputId": "1e1f6177-1633-4c11-dd8f-59203f5c9297"
   },
   "outputs": [
    {
     "name": "stdout",
     "output_type": "stream",
     "text": [
      "sum of n1 and n2 is: 100\n"
     ]
    }
   ],
   "source": [
    "a,b=45,55\n",
    "add(a,b)"
   ]
  },
  {
   "cell_type": "code",
   "execution_count": 7,
   "metadata": {
    "executionInfo": {
     "elapsed": 2136,
     "status": "ok",
     "timestamp": 1601619173917,
     "user": {
      "displayName": "tejaswini tata",
      "photoUrl": "https://lh3.googleusercontent.com/a-/AOh14Ghjy-Y6nicJUYIPvUl-_GF9Owl-XY1RHENoBMMX=s64",
      "userId": "02334631379730592087"
     },
     "user_tz": -330
    },
    "id": "Cpxu0QmW8ObN"
   },
   "outputs": [],
   "source": [
    "\n",
    "# with arguments and a return value\n",
    "def mul(x1,x2):\n",
    "    return x1*x2"
   ]
  },
  {
   "cell_type": "code",
   "execution_count": 8,
   "metadata": {
    "colab": {
     "base_uri": "https://localhost:8080/",
     "height": 35
    },
    "executionInfo": {
     "elapsed": 1749,
     "status": "ok",
     "timestamp": 1601619185228,
     "user": {
      "displayName": "tejaswini tata",
      "photoUrl": "https://lh3.googleusercontent.com/a-/AOh14Ghjy-Y6nicJUYIPvUl-_GF9Owl-XY1RHENoBMMX=s64",
      "userId": "02334631379730592087"
     },
     "user_tz": -330
    },
    "id": "XysdGx2G8RlY",
    "outputId": "e2f76eca-0f46-48d7-900d-3549e01afda8"
   },
   "outputs": [
    {
     "name": "stdout",
     "output_type": "stream",
     "text": [
      "mul of n1 and n2 is: 20\n"
     ]
    }
   ],
   "source": [
    "n1,n2=5,4\n",
    "rs = mul(n1,n2)\n",
    "print('mul of n1 and n2 is:',rs)\n"
   ]
  },
  {
   "cell_type": "code",
   "execution_count": 9,
   "metadata": {
    "colab": {
     "base_uri": "https://localhost:8080/",
     "height": 35
    },
    "executionInfo": {
     "elapsed": 1454,
     "status": "ok",
     "timestamp": 1601619194275,
     "user": {
      "displayName": "tejaswini tata",
      "photoUrl": "https://lh3.googleusercontent.com/a-/AOh14Ghjy-Y6nicJUYIPvUl-_GF9Owl-XY1RHENoBMMX=s64",
      "userId": "02334631379730592087"
     },
     "user_tz": -330
    },
    "id": "J9VB-l8w8UcQ",
    "outputId": "f693eb7a-8572-447b-8ea5-0ce1122806f0"
   },
   "outputs": [
    {
     "name": "stdout",
     "output_type": "stream",
     "text": [
      "mul of n1 and n2 is: 25\n"
     ]
    }
   ],
   "source": [
    "n1,n2=5,5\n",
    "print('mul of n1 and n2 is:',mul(n1,n2))"
   ]
  },
  {
   "cell_type": "code",
   "execution_count": 10,
   "metadata": {
    "executionInfo": {
     "elapsed": 1157,
     "status": "ok",
     "timestamp": 1601619215240,
     "user": {
      "displayName": "tejaswini tata",
      "photoUrl": "https://lh3.googleusercontent.com/a-/AOh14Ghjy-Y6nicJUYIPvUl-_GF9Owl-XY1RHENoBMMX=s64",
      "userId": "02334631379730592087"
     },
     "user_tz": -330
    },
    "id": "pvTZRiOK8WuF"
   },
   "outputs": [],
   "source": [
    "# implement function on all arithmentic operators\n",
    "def add(n1,n2):\n",
    "    return n1+n2\n",
    "\n",
    "def sub(n1,n2):\n",
    "    return n1-n2\n",
    "\n",
    "def mul(x1,x2):\n",
    "    return x1*x2\n",
    "\n",
    "def div(n1,n2):\n",
    "    return n1/n1"
   ]
  },
  {
   "cell_type": "code",
   "execution_count": 11,
   "metadata": {
    "colab": {
     "base_uri": "https://localhost:8080/",
     "height": 88
    },
    "executionInfo": {
     "elapsed": 15261,
     "status": "ok",
     "timestamp": 1601619251133,
     "user": {
      "displayName": "tejaswini tata",
      "photoUrl": "https://lh3.googleusercontent.com/a-/AOh14Ghjy-Y6nicJUYIPvUl-_GF9Owl-XY1RHENoBMMX=s64",
      "userId": "02334631379730592087"
     },
     "user_tz": -330
    },
    "id": "qlRbo-BI8b6V",
    "outputId": "f5d78b36-a627-4d88-bc71-4f9db5457063"
   },
   "outputs": [
    {
     "name": "stdout",
     "output_type": "stream",
     "text": [
      "5\n",
      "7\n",
      "12\n",
      "1.0\n"
     ]
    }
   ],
   "source": [
    "v1 = int(input())\n",
    "v2 = int(input())\n",
    "rs1 = add(v1,v2)\n",
    "print(rs1)\n",
    "rs1 = div(v1,v2)\n",
    "print(rs1)"
   ]
  },
  {
   "cell_type": "markdown",
   "metadata": {
    "id": "oebIJx2b8pgh"
   },
   "source": [
    "predefined functions:\n",
    "- already implemented in proigramming\n",
    "- Pow,range\n",
    "- print,input,type,chr,ord,help,abs,float,int,str,max,min,sum,etc..."
   ]
  },
  {
   "cell_type": "code",
   "execution_count": null,
   "metadata": {
    "id": "R8VJkHZB8hPM"
   },
   "outputs": [],
   "source": []
  }
 ],
 "metadata": {
  "colab": {
   "authorship_tag": "ABX9TyOhOwKvZ3NpbUuud7KmVsSP",
   "collapsed_sections": [],
   "name": "Day7(21-09-20).ipynb",
   "provenance": []
  },
  "kernelspec": {
   "display_name": "Python 3",
   "language": "python",
   "name": "python3"
  },
  "language_info": {
   "codemirror_mode": {
    "name": "ipython",
    "version": 3
   },
   "file_extension": ".py",
   "mimetype": "text/x-python",
   "name": "python",
   "nbconvert_exporter": "python",
   "pygments_lexer": "ipython3",
   "version": "3.7.4"
  }
 },
 "nbformat": 4,
 "nbformat_minor": 1
}
