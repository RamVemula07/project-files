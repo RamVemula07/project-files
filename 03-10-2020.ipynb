{
 "cells": [
  {
   "cell_type": "code",
   "execution_count": 2,
   "metadata": {},
   "outputs": [
    {
     "name": "stdout",
     "output_type": "stream",
     "text": [
      "enter start num2\n",
      "enter last num9\n",
      "2 3 5 7 "
     ]
    }
   ],
   "source": [
    "#print the prime in between given num\n",
    "first=int(input(\"enter start num\"))\n",
    "end=int(input(\"enter last num\"))\n",
    "for i in range(first,end+1):\n",
    "    if(i>1):\n",
    "        c=0\n",
    "        for j in range(2,i):\n",
    "            if(i%j==0):\n",
    "                c=c+1\n",
    "        if(c==0):\n",
    "                print(i,end=\" \")\n",
    "    else:\n",
    "            print(\"enter starting num from 2\")"
   ]
  },
  {
   "cell_type": "code",
   "execution_count": 5,
   "metadata": {},
   "outputs": [
    {
     "name": "stdout",
     "output_type": "stream",
     "text": [
      "enter a stringapssdc\n",
      "enter a stringkiran\n"
     ]
    },
    {
     "data": {
      "text/plain": [
       "'pssdckiran'"
      ]
     },
     "execution_count": 5,
     "metadata": {},
     "output_type": "execute_result"
    }
   ],
   "source": [
    "#given two strings,return their concatination on it first char\n",
    "s=input(\"enter a string\")\n",
    "s1=input(\"enter a string\")\n",
    "s2=s+s1\n",
    "s2[1:]"
   ]
  },
  {
   "cell_type": "code",
   "execution_count": 4,
   "metadata": {},
   "outputs": [
    {
     "name": "stdout",
     "output_type": "stream",
     "text": [
      "enter a stringkiran\n",
      "enter second stringapssdc\n"
     ]
    },
    {
     "data": {
      "text/plain": [
       "'iranpssdc'"
      ]
     },
     "execution_count": 4,
     "metadata": {},
     "output_type": "execute_result"
    }
   ],
   "source": [
    "def concat(s,s1):\n",
    "    s2=s[1:]+s1[1:]\n",
    "    return s2\n",
    "concat(input(\"enter a string\"),input(\"enter second string\"))"
   ]
  },
  {
   "cell_type": "code",
   "execution_count": null,
   "metadata": {},
   "outputs": [],
   "source": [
    "# range as 3\n",
    "# 10\n",
    "# 20\n",
    "# 30\n"
   ]
  }
 ],
 "metadata": {
  "kernelspec": {
   "display_name": "Python 3",
   "language": "python",
   "name": "python3"
  },
  "language_info": {
   "codemirror_mode": {
    "name": "ipython",
    "version": 3
   },
   "file_extension": ".py",
   "mimetype": "text/x-python",
   "name": "python",
   "nbconvert_exporter": "python",
   "pygments_lexer": "ipython3",
   "version": "3.7.4"
  }
 },
 "nbformat": 4,
 "nbformat_minor": 4
}
