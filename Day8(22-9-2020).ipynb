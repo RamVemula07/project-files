{
 "cells": [
  {
   "cell_type": "code",
   "execution_count": 1,
   "metadata": {},
   "outputs": [
    {
     "name": "stdout",
     "output_type": "stream",
     "text": [
      "enter a number4\n",
      "positive number\n"
     ]
    }
   ],
   "source": [
    "#to check whether the given num is +ve or -ve\n",
    "n=int(input(\"enter a number\"))\n",
    "if(n>=0):\n",
    "    print(\"positive number\")\n",
    "else:\n",
    "    print(\"negative number\")"
   ]
  },
  {
   "cell_type": "code",
   "execution_count": 2,
   "metadata": {},
   "outputs": [
    {
     "name": "stdout",
     "output_type": "stream",
     "text": [
      "7\n",
      "odd\n"
     ]
    }
   ],
   "source": [
    "#to check whether the given num is even or odd.\n",
    "n=int(input())\n",
    "if n%2==0:\n",
    "    print(\"even\")\n",
    "else:\n",
    "    print(\"odd\")"
   ]
  },
  {
   "cell_type": "code",
   "execution_count": 3,
   "metadata": {},
   "outputs": [
    {
     "name": "stdout",
     "output_type": "stream",
     "text": [
      "False\n"
     ]
    }
   ],
   "source": [
    "#to check whether the given year is leap year or not.\n",
    "def leap_year(y):\n",
    "    if y%400==0:\n",
    "        return True\n",
    "    if y%100==0:\n",
    "        return False\n",
    "    if y%4==0:\n",
    "        return True\n",
    "    else:\n",
    "        return False\n",
    "print(leap_year(1999))"
   ]
  },
  {
   "cell_type": "code",
   "execution_count": 4,
   "metadata": {},
   "outputs": [
    {
     "name": "stdout",
     "output_type": "stream",
     "text": [
      "enter a chartacter:ab\n",
      "it is consonant\n"
     ]
    }
   ],
   "source": [
    "## To check wheather given character is vowel or consonant?\n",
    "def vowelOrConsonant(x):\n",
    "    if (x=='a' or x=='e' or x=='i' or x=='o' or x=='u'):\n",
    "        print('it is vowel')\n",
    "    else:\n",
    "        print('it is consonant')\n",
    "a=input(\"enter a chartacter:\")\n",
    "n=vowelOrConsonant(a)\n"
   ]
  },
  {
   "cell_type": "code",
   "execution_count": 5,
   "metadata": {},
   "outputs": [
    {
     "name": "stdout",
     "output_type": "stream",
     "text": [
      "not same\n"
     ]
    }
   ],
   "source": [
    "#To check wheather given two values are eqaul or not?\n",
    "def areSame(a,b):\n",
    "    if(a==b):\n",
    "        print('same')\n",
    "    else:\n",
    "        print('not same')\n",
    "areSame(11,44)\n"
   ]
  },
  {
   "cell_type": "code",
   "execution_count": null,
   "metadata": {},
   "outputs": [],
   "source": [
    "# To find biggest of two numbers?\n",
    "def maxNum(a,b):\n",
    "    if (a>=b):\n",
    "        return a\n",
    "    else:\n",
    "        return b\n",
    "a=int(input(\"enter a value:\"))\n",
    "b=int(input(\"enter b value:\"))\n",
    "print(maxNum(a,b))"
   ]
  },
  {
   "cell_type": "code",
   "execution_count": null,
   "metadata": {},
   "outputs": [],
   "source": [
    "#To find the biggest of three numbers?\n",
    "def maximum(a,b,c):\n",
    "    list=[a,b,c]\n",
    "    return max(list)\n",
    "a=int(input(\"enter a value:\"))\n",
    "b=int(input(\"enter b value:\"))\n",
    "c=int(input(\"enter c value:\"))\n",
    "print(maximum(a,b,c))"
   ]
  },
  {
   "cell_type": "code",
   "execution_count": null,
   "metadata": {},
   "outputs": [],
   "source": [
    "#To find the biggest of three numbers?\n",
    "def maximum(a,b,c):\n",
    "    if(a>=b)and(a>=c):\n",
    "        largest=a\n",
    "    elif(b>=a)and(b>=c):\n",
    "        largest=b\n",
    "    else:\n",
    "        largest=c\n",
    "    return largest\n",
    "a=int(input(\"enter a value:\"))\n",
    "b=int(input(\"enter b value:\"))\n",
    "c=int(input(\"enter c value:\"))\n",
    "print(maximum(a,b,c))"
   ]
  },
  {
   "cell_type": "code",
   "execution_count": null,
   "metadata": {},
   "outputs": [],
   "source": [
    "#To print the 1 to n natural numbers in increment order?\n",
    "def naturalNum(n):\n",
    "    n=int(input(\"enter a number:\"))\n",
    "    print(\"\\n natural numbers from 1 to \",n)\n",
    "for i in range(1,n + 1):\n",
    "    print(naturalNum(i,end=\" \"))"
   ]
  },
  {
   "cell_type": "code",
   "execution_count": null,
   "metadata": {},
   "outputs": [],
   "source": [
    "#To print the sum of 1 to n natural numbers?\n",
    "def sumOfNNaturalNums(n):\n",
    "    sm = 0\n",
    "    for i in range(1,n+1):\n",
    "        sm += i\n",
    "    return sm\n",
    "    \n",
    "num = int(input())\n",
    "rs = sumOfNNaturalNums(num)\n",
    "print(rs)"
   ]
  },
  {
   "cell_type": "code",
   "execution_count": null,
   "metadata": {},
   "outputs": [],
   "source": [
    "#To print the product of n natural numbers?\n",
    "def productOfNNaturalNums(n):\n",
    "    sm = 1\n",
    "    for i in range(1,n+1):\n",
    "        sm *= i\n",
    "    return sm\n",
    "    \n",
    "num = int(input())\n",
    "rs = productOfNNaturalNums(num)\n",
    "print(rs)"
   ]
  },
  {
   "cell_type": "code",
   "execution_count": null,
   "metadata": {},
   "outputs": [],
   "source": [
    "# To print the sum of even natural numbers?\n",
    "num = int(input(\"enter a range:\"))\n",
    "sm = 0\n",
    "for i in range(2,num+1):\n",
    "    if isEven(i):\n",
    "        sm += i\n",
    "    \n",
    "print(sm)\n"
   ]
  },
  {
   "cell_type": "code",
   "execution_count": null,
   "metadata": {},
   "outputs": [],
   "source": [
    "#To print the sum of odd natural numbers?\n",
    "num = int(input(\"enter a range:\"))\n",
    "sm = 0\n",
    "for i in range(1,num+1):\n",
    "    if isEven(i):\n",
    "        continue\n",
    "    else:\n",
    "        sm += i\n",
    "    \n",
    "print(sm)"
   ]
  },
  {
   "cell_type": "code",
   "execution_count": null,
   "metadata": {},
   "outputs": [],
   "source": []
  },
  {
   "cell_type": "code",
   "execution_count": null,
   "metadata": {},
   "outputs": [],
   "source": []
  }
 ],
 "metadata": {
  "kernelspec": {
   "display_name": "Python 3",
   "language": "python",
   "name": "python3"
  },
  "language_info": {
   "codemirror_mode": {
    "name": "ipython",
    "version": 3
   },
   "file_extension": ".py",
   "mimetype": "text/x-python",
   "name": "python",
   "nbconvert_exporter": "python",
   "pygments_lexer": "ipython3",
   "version": "3.7.4"
  }
 },
 "nbformat": 4,
 "nbformat_minor": 4
}
