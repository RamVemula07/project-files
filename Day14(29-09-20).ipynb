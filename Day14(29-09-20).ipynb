{
 "cells": [
  {
   "cell_type": "code",
   "execution_count": 1,
   "metadata": {
    "executionInfo": {
     "elapsed": 1051,
     "status": "ok",
     "timestamp": 1601356413033,
     "user": {
      "displayName": "tejaswini tata",
      "photoUrl": "https://lh3.googleusercontent.com/a-/AOh14Ghjy-Y6nicJUYIPvUl-_GF9Owl-XY1RHENoBMMX=s64",
      "userId": "02334631379730592087"
     },
     "user_tz": -330
    },
    "id": "47OSv3sURPzP"
   },
   "outputs": [],
   "source": [
    "l=[10,20,9,100,89,500]\n",
    "l.sort()"
   ]
  },
  {
   "cell_type": "code",
   "execution_count": 4,
   "metadata": {
    "colab": {
     "base_uri": "https://localhost:8080/",
     "height": 52
    },
    "executionInfo": {
     "elapsed": 1083,
     "status": "ok",
     "timestamp": 1601356710905,
     "user": {
      "displayName": "tejaswini tata",
      "photoUrl": "https://lh3.googleusercontent.com/a-/AOh14Ghjy-Y6nicJUYIPvUl-_GF9Owl-XY1RHENoBMMX=s64",
      "userId": "02334631379730592087"
     },
     "user_tz": -330
    },
    "id": "_usOzxK1R1Jj",
    "outputId": "d7693866-59d6-4652-a6a9-63186693a03d"
   },
   "outputs": [
    {
     "name": "stdout",
     "output_type": "stream",
     "text": [
      "max number in the given list is: 500\n",
      "Second max number in the given list is: 100\n"
     ]
    }
   ],
   "source": [
    "print(\"max number in the given list is:\",l[-1])\n",
    "print(\"Second max number in the given list is:\",l[-2])"
   ]
  },
  {
   "cell_type": "code",
   "execution_count": 8,
   "metadata": {
    "colab": {
     "base_uri": "https://localhost:8080/",
     "height": 35
    },
    "executionInfo": {
     "elapsed": 1121,
     "status": "ok",
     "timestamp": 1601356946279,
     "user": {
      "displayName": "tejaswini tata",
      "photoUrl": "https://lh3.googleusercontent.com/a-/AOh14Ghjy-Y6nicJUYIPvUl-_GF9Owl-XY1RHENoBMMX=s64",
      "userId": "02334631379730592087"
     },
     "user_tz": -330
    },
    "id": "wS5oTo-OSZfm",
    "outputId": "4e5f419e-bbbb-4527-dc18-c98ba1086063"
   },
   "outputs": [
    {
     "name": "stdout",
     "output_type": "stream",
     "text": [
      "max number in the given list is: 500\n"
     ]
    }
   ],
   "source": [
    "## Find the max without using predefined function\n",
    "l=[10,20,9,100,89,500]\n",
    "m=l[0]\n",
    "for i in l:\n",
    "     if(i>m):\n",
    "    m=i\n",
    "print(\"max number in the given list is:\",m)"
   ]
  },
  {
   "cell_type": "code",
   "execution_count": 9,
   "metadata": {
    "colab": {
     "base_uri": "https://localhost:8080/",
     "height": 35
    },
    "executionInfo": {
     "elapsed": 989,
     "status": "ok",
     "timestamp": 1601357001123,
     "user": {
      "displayName": "tejaswini tata",
      "photoUrl": "https://lh3.googleusercontent.com/a-/AOh14Ghjy-Y6nicJUYIPvUl-_GF9Owl-XY1RHENoBMMX=s64",
      "userId": "02334631379730592087"
     },
     "user_tz": -330
    },
    "id": "TjFeuykqTM3K",
    "outputId": "ca42f35c-f728-4981-9a58-9bc546ca36e6"
   },
   "outputs": [
    {
     "name": "stdout",
     "output_type": "stream",
     "text": [
      "min number in the given list is: 9\n"
     ]
    }
   ],
   "source": [
    "## Find the min without using predefined function\n",
    "l=[10,20,9,100,89,500]\n",
    "m=l[0]\n",
    "for i in l:\n",
    "    if(i<m):\n",
    "    m=i\n",
    "print(\"min number in the given list is:\",m)"
   ]
  },
  {
   "cell_type": "code",
   "execution_count": 16,
   "metadata": {
    "colab": {
     "base_uri": "https://localhost:8080/",
     "height": 35
    },
    "executionInfo": {
     "elapsed": 1047,
     "status": "ok",
     "timestamp": 1601357738833,
     "user": {
      "displayName": "tejaswini tata",
      "photoUrl": "https://lh3.googleusercontent.com/a-/AOh14Ghjy-Y6nicJUYIPvUl-_GF9Owl-XY1RHENoBMMX=s64",
      "userId": "02334631379730592087"
     },
     "user_tz": -330
    },
    "id": "WP94imlfUK1Q",
    "outputId": "447c22dd-9030-46ec-9b08-09887c7089c7"
   },
   "outputs": [
    {
     "data": {
      "text/plain": [
       "[9, 10, 20, 89, 100, 500]"
      ]
     },
     "execution_count": 16,
     "metadata": {
      "tags": []
     },
     "output_type": "execute_result"
    }
   ],
   "source": [
    "# sort the list of elements without using predefined function\n",
    "li=[10,20,9,100,89,500]\n",
    "for i in range(len(l)):\n",
    "    for j in range(i+1,len(l)):\n",
    "    if(l[i]>l[j]): #if(l[i]<l[j]) for descending order\n",
    "      t=l[i]\n",
    "      l[i]=l[j]\n",
    "      l[j]=t\n",
    "l  "
   ]
  },
  {
   "cell_type": "code",
   "execution_count": 18,
   "metadata": {
    "colab": {
     "base_uri": "https://localhost:8080/",
     "height": 124
    },
    "executionInfo": {
     "elapsed": 1134,
     "status": "ok",
     "timestamp": 1601358457451,
     "user": {
      "displayName": "tejaswini tata",
      "photoUrl": "https://lh3.googleusercontent.com/a-/AOh14Ghjy-Y6nicJUYIPvUl-_GF9Owl-XY1RHENoBMMX=s64",
      "userId": "02334631379730592087"
     },
     "user_tz": -330
    },
    "id": "zAgZh04jU-3W",
    "outputId": "97207eba-31cd-484c-c396-0e5ee78db2f2"
   },
   "outputs": [
    {
     "name": "stdout",
     "output_type": "stream",
     "text": [
      "Prime number is: 2\n",
      "Prime number is: 3\n",
      "Prime number is: 5\n",
      "Prime number is: 7\n",
      "Prime number is: 11\n"
     ]
    },
    {
     "data": {
      "text/plain": [
       "[2, 3, 5, 7, 11]"
      ]
     },
     "execution_count": 18,
     "metadata": {
      "tags": []
     },
     "output_type": "execute_result"
    }
   ],
   "source": [
    "# Find the prime numbers in the given list\n",
    "l=[2,3,4,5,6,7,8,9,10,11]\n",
    "plist=[]\n",
    "for i in l:\n",
    "  c=0\n",
    "  for j in range(2,i):\n",
    "    if(i%j==0):\n",
    "      c=c+1\n",
    "  if(c==0):\n",
    "    print(\"Prime number is:\",i)\n",
    "    plist.append(i)\n",
    "plist\n"
   ]
  },
  {
   "cell_type": "code",
   "execution_count": 19,
   "metadata": {
    "colab": {
     "base_uri": "https://localhost:8080/",
     "height": 35
    },
    "executionInfo": {
     "elapsed": 1106,
     "status": "ok",
     "timestamp": 1601358999147,
     "user": {
      "displayName": "tejaswini tata",
      "photoUrl": "https://lh3.googleusercontent.com/a-/AOh14Ghjy-Y6nicJUYIPvUl-_GF9Owl-XY1RHENoBMMX=s64",
      "userId": "02334631379730592087"
     },
     "user_tz": -330
    },
    "id": "6I-AVxoKadfr",
    "outputId": "73d1d0c6-b83b-4d29-fed0-313d34b93d25"
   },
   "outputs": [
    {
     "data": {
      "text/plain": [
       "[1, 4, 9, 16]"
      ]
     },
     "execution_count": 19,
     "metadata": {
      "tags": []
     },
     "output_type": "execute_result"
    }
   ],
   "source": [
    "## Print the squares of the list of elements\n",
    "l=[1,2,3,4]\n",
    "ll=[]\n",
    "for i in l:\n",
    "  ll.append(i**2)\n",
    "ll  "
   ]
  },
  {
   "cell_type": "markdown",
   "metadata": {
    "id": "XXvpP3Wmb1vX"
   },
   "source": [
    "Tuples:\n",
    "   * Tuples is like a list   \n",
    "   * Tuples are immutable list\n",
    "   * Tuples are created by using ()\n"
   ]
  },
  {
   "cell_type": "code",
   "execution_count": 20,
   "metadata": {
    "colab": {
     "base_uri": "https://localhost:8080/",
     "height": 35
    },
    "executionInfo": {
     "elapsed": 1094,
     "status": "ok",
     "timestamp": 1601359238195,
     "user": {
      "displayName": "tejaswini tata",
      "photoUrl": "https://lh3.googleusercontent.com/a-/AOh14Ghjy-Y6nicJUYIPvUl-_GF9Owl-XY1RHENoBMMX=s64",
      "userId": "02334631379730592087"
     },
     "user_tz": -330
    },
    "id": "D4tl4yWicYJo",
    "outputId": "34eb605c-9454-43d2-ab29-f6bf1f445a98"
   },
   "outputs": [
    {
     "data": {
      "text/plain": [
       "tuple"
      ]
     },
     "execution_count": 20,
     "metadata": {
      "tags": []
     },
     "output_type": "execute_result"
    }
   ],
   "source": [
    "t=(1,2,3,\"hello\",4,5,4.56)\n",
    "type(t)"
   ]
  },
  {
   "cell_type": "code",
   "execution_count": 22,
   "metadata": {
    "colab": {
     "base_uri": "https://localhost:8080/",
     "height": 35
    },
    "executionInfo": {
     "elapsed": 1118,
     "status": "ok",
     "timestamp": 1601359320864,
     "user": {
      "displayName": "tejaswini tata",
      "photoUrl": "https://lh3.googleusercontent.com/a-/AOh14Ghjy-Y6nicJUYIPvUl-_GF9Owl-XY1RHENoBMMX=s64",
      "userId": "02334631379730592087"
     },
     "user_tz": -330
    },
    "id": "0cXsD0jBcsnA",
    "outputId": "5ba79512-e807-4bea-b2d9-03c0a18df74f"
   },
   "outputs": [
    {
     "data": {
      "text/plain": [
       "(1, 2, 3, [10, 20, 30], 'hello', 6, 77)"
      ]
     },
     "execution_count": 22,
     "metadata": {
      "tags": []
     },
     "output_type": "execute_result"
    }
   ],
   "source": [
    "t=(1,2,3,[10,20,30],\"hello\",6,77)\n",
    "t"
   ]
  },
  {
   "cell_type": "code",
   "execution_count": 23,
   "metadata": {
    "colab": {
     "base_uri": "https://localhost:8080/",
     "height": 35
    },
    "executionInfo": {
     "elapsed": 1266,
     "status": "ok",
     "timestamp": 1601359417278,
     "user": {
      "displayName": "tejaswini tata",
      "photoUrl": "https://lh3.googleusercontent.com/a-/AOh14Ghjy-Y6nicJUYIPvUl-_GF9Owl-XY1RHENoBMMX=s64",
      "userId": "02334631379730592087"
     },
     "user_tz": -330
    },
    "id": "VGiMm0Agcy5n",
    "outputId": "18ab80d0-3cd7-4260-8142-66d69092503d"
   },
   "outputs": [
    {
     "data": {
      "text/plain": [
       "[(1, 2, 3), ('hello', 'Welcome', 'to', 'all'), 10, 29]"
      ]
     },
     "execution_count": 23,
     "metadata": {
      "tags": []
     },
     "output_type": "execute_result"
    }
   ],
   "source": [
    "l=[(1,2,3),(\"hello\",\"Welcome\",\"to\",\"all\"),10,29]\n",
    "l"
   ]
  },
  {
   "cell_type": "code",
   "execution_count": 28,
   "metadata": {
    "colab": {
     "base_uri": "https://localhost:8080/",
     "height": 35
    },
    "executionInfo": {
     "elapsed": 1313,
     "status": "ok",
     "timestamp": 1601359721269,
     "user": {
      "displayName": "tejaswini tata",
      "photoUrl": "https://lh3.googleusercontent.com/a-/AOh14Ghjy-Y6nicJUYIPvUl-_GF9Owl-XY1RHENoBMMX=s64",
      "userId": "02334631379730592087"
     },
     "user_tz": -330
    },
    "id": "ldzBZJXTdYhO",
    "outputId": "856331ae-5075-4c7f-de81-6583243d9457"
   },
   "outputs": [
    {
     "data": {
      "text/plain": [
       "(1, 3, '5.7')"
      ]
     },
     "execution_count": 28,
     "metadata": {
      "tags": []
     },
     "output_type": "execute_result"
    }
   ],
   "source": [
    "# Accessing the elements from tuples\n",
    "t=(1,2,3,\"hello\",\"5.7\")\n",
    "t[-1]\n",
    "t[1:]\n",
    "t[-2]\n",
    "t[::-1]\n",
    "t[0::2]"
   ]
  },
  {
   "cell_type": "code",
   "execution_count": 31,
   "metadata": {
    "colab": {
     "base_uri": "https://localhost:8080/",
     "height": 35
    },
    "executionInfo": {
     "elapsed": 3458,
     "status": "ok",
     "timestamp": 1601359924801,
     "user": {
      "displayName": "tejaswini tata",
      "photoUrl": "https://lh3.googleusercontent.com/a-/AOh14Ghjy-Y6nicJUYIPvUl-_GF9Owl-XY1RHENoBMMX=s64",
      "userId": "02334631379730592087"
     },
     "user_tz": -330
    },
    "id": "1DMNGuYvdttu",
    "outputId": "95476e99-349f-4d44-c719-9fce98794a56"
   },
   "outputs": [
    {
     "data": {
      "text/plain": [
       "4"
      ]
     },
     "execution_count": 31,
     "metadata": {
      "tags": []
     },
     "output_type": "execute_result"
    }
   ],
   "source": [
    "t=([1,2,3],[4,5,6])\n",
    "t[1][0]"
   ]
  },
  {
   "cell_type": "code",
   "execution_count": 34,
   "metadata": {
    "colab": {
     "base_uri": "https://localhost:8080/",
     "height": 604
    },
    "executionInfo": {
     "elapsed": 1740,
     "status": "ok",
     "timestamp": 1601360227683,
     "user": {
      "displayName": "tejaswini tata",
      "photoUrl": "https://lh3.googleusercontent.com/a-/AOh14Ghjy-Y6nicJUYIPvUl-_GF9Owl-XY1RHENoBMMX=s64",
      "userId": "02334631379730592087"
     },
     "user_tz": -330
    },
    "id": "WT95HU06e1rm",
    "outputId": "fd43714a-efc3-41bc-8df3-b6d7afee068c"
   },
   "outputs": [
    {
     "data": {
      "text/plain": [
       "['__add__',\n",
       " '__class__',\n",
       " '__contains__',\n",
       " '__delattr__',\n",
       " '__dir__',\n",
       " '__doc__',\n",
       " '__eq__',\n",
       " '__format__',\n",
       " '__ge__',\n",
       " '__getattribute__',\n",
       " '__getitem__',\n",
       " '__getnewargs__',\n",
       " '__gt__',\n",
       " '__hash__',\n",
       " '__init__',\n",
       " '__init_subclass__',\n",
       " '__iter__',\n",
       " '__le__',\n",
       " '__len__',\n",
       " '__lt__',\n",
       " '__mul__',\n",
       " '__ne__',\n",
       " '__new__',\n",
       " '__reduce__',\n",
       " '__reduce_ex__',\n",
       " '__repr__',\n",
       " '__rmul__',\n",
       " '__setattr__',\n",
       " '__sizeof__',\n",
       " '__str__',\n",
       " '__subclasshook__',\n",
       " 'count',\n",
       " 'index']"
      ]
     },
     "execution_count": 34,
     "metadata": {
      "tags": []
     },
     "output_type": "execute_result"
    }
   ],
   "source": [
    "dir(t)"
   ]
  },
  {
   "cell_type": "code",
   "execution_count": 36,
   "metadata": {
    "colab": {
     "base_uri": "https://localhost:8080/",
     "height": 35
    },
    "executionInfo": {
     "elapsed": 1477,
     "status": "ok",
     "timestamp": 1601360302689,
     "user": {
      "displayName": "tejaswini tata",
      "photoUrl": "https://lh3.googleusercontent.com/a-/AOh14Ghjy-Y6nicJUYIPvUl-_GF9Owl-XY1RHENoBMMX=s64",
      "userId": "02334631379730592087"
     },
     "user_tz": -330
    },
    "id": "CeFzmug6gQJ0",
    "outputId": "f5ce286a-7f7c-4cd8-a179-6b5d1dd04209"
   },
   "outputs": [
    {
     "data": {
      "text/plain": [
       "3"
      ]
     },
     "execution_count": 36,
     "metadata": {
      "tags": []
     },
     "output_type": "execute_result"
    }
   ],
   "source": [
    "t=(1,2,3,4,5,6,\"hello\",\"good\",1,1)\n",
    "t.count(1)"
   ]
  },
  {
   "cell_type": "code",
   "execution_count": 37,
   "metadata": {
    "colab": {
     "base_uri": "https://localhost:8080/",
     "height": 35
    },
    "executionInfo": {
     "elapsed": 1015,
     "status": "ok",
     "timestamp": 1601360325621,
     "user": {
      "displayName": "tejaswini tata",
      "photoUrl": "https://lh3.googleusercontent.com/a-/AOh14Ghjy-Y6nicJUYIPvUl-_GF9Owl-XY1RHENoBMMX=s64",
      "userId": "02334631379730592087"
     },
     "user_tz": -330
    },
    "id": "_ZYqYXCZguxg",
    "outputId": "b209fcc4-0749-42ec-8d26-c2645f5bfca7"
   },
   "outputs": [
    {
     "data": {
      "text/plain": [
       "2"
      ]
     },
     "execution_count": 37,
     "metadata": {
      "tags": []
     },
     "output_type": "execute_result"
    }
   ],
   "source": [
    "t.index(3)"
   ]
  },
  {
   "cell_type": "markdown",
   "metadata": {
    "id": "hIK9lP1lirZ8"
   },
   "source": [
    "Sets\n",
    "  * Set is an un-order data elements\n",
    "  * Set can be created by using {}\n",
    "  * Set doesn't allow the duplicate values"
   ]
  },
  {
   "cell_type": "code",
   "execution_count": 38,
   "metadata": {
    "colab": {
     "base_uri": "https://localhost:8080/",
     "height": 35
    },
    "executionInfo": {
     "elapsed": 1258,
     "status": "ok",
     "timestamp": 1601361094893,
     "user": {
      "displayName": "tejaswini tata",
      "photoUrl": "https://lh3.googleusercontent.com/a-/AOh14Ghjy-Y6nicJUYIPvUl-_GF9Owl-XY1RHENoBMMX=s64",
      "userId": "02334631379730592087"
     },
     "user_tz": -330
    },
    "id": "94WtCU8Kg2eY",
    "outputId": "b20a0aae-44dd-4bc4-c1e3-88a7a4dfadf6"
   },
   "outputs": [
    {
     "data": {
      "text/plain": [
       "set"
      ]
     },
     "execution_count": 38,
     "metadata": {
      "tags": []
     },
     "output_type": "execute_result"
    }
   ],
   "source": [
    "# create a set\n",
    "s={\"Hello\",\"good\",1,2,3,9.8,4.5}\n",
    "type(s)"
   ]
  },
  {
   "cell_type": "code",
   "execution_count": 39,
   "metadata": {
    "colab": {
     "base_uri": "https://localhost:8080/",
     "height": 35
    },
    "executionInfo": {
     "elapsed": 899,
     "status": "ok",
     "timestamp": 1601361112889,
     "user": {
      "displayName": "tejaswini tata",
      "photoUrl": "https://lh3.googleusercontent.com/a-/AOh14Ghjy-Y6nicJUYIPvUl-_GF9Owl-XY1RHENoBMMX=s64",
      "userId": "02334631379730592087"
     },
     "user_tz": -330
    },
    "id": "86ClOGBwjS-_",
    "outputId": "25a6bb46-3db1-4324-cdf9-c25586f0e858"
   },
   "outputs": [
    {
     "data": {
      "text/plain": [
       "set"
      ]
     },
     "execution_count": 39,
     "metadata": {
      "tags": []
     },
     "output_type": "execute_result"
    }
   ],
   "source": [
    "s=set()\n",
    "type(s)"
   ]
  },
  {
   "cell_type": "code",
   "execution_count": 40,
   "metadata": {
    "colab": {
     "base_uri": "https://localhost:8080/",
     "height": 35
    },
    "executionInfo": {
     "elapsed": 1262,
     "status": "ok",
     "timestamp": 1601361133215,
     "user": {
      "displayName": "tejaswini tata",
      "photoUrl": "https://lh3.googleusercontent.com/a-/AOh14Ghjy-Y6nicJUYIPvUl-_GF9Owl-XY1RHENoBMMX=s64",
      "userId": "02334631379730592087"
     },
     "user_tz": -330
    },
    "id": "k6etGSzWj2ri",
    "outputId": "84e11353-059b-450d-abeb-1956103ba7b3"
   },
   "outputs": [
    {
     "data": {
      "text/plain": [
       "dict"
      ]
     },
     "execution_count": 40,
     "metadata": {
      "tags": []
     },
     "output_type": "execute_result"
    }
   ],
   "source": [
    "# without passing elements that object returns dictionary\n",
    "s={}\n",
    "type(s)"
   ]
  },
  {
   "cell_type": "code",
   "execution_count": 41,
   "metadata": {
    "colab": {
     "base_uri": "https://localhost:8080/",
     "height": 35
    },
    "executionInfo": {
     "elapsed": 657,
     "status": "ok",
     "timestamp": 1601361328614,
     "user": {
      "displayName": "tejaswini tata",
      "photoUrl": "https://lh3.googleusercontent.com/a-/AOh14Ghjy-Y6nicJUYIPvUl-_GF9Owl-XY1RHENoBMMX=s64",
      "userId": "02334631379730592087"
     },
     "user_tz": -330
    },
    "id": "pL3PQg8bj7k6",
    "outputId": "9c416a43-ab85-4fac-c3ad-030142b523a9"
   },
   "outputs": [
    {
     "data": {
      "text/plain": [
       "{1, 100.101, 2, 3.5, 5, 'hello'}"
      ]
     },
     "execution_count": 41,
     "metadata": {
      "tags": []
     },
     "output_type": "execute_result"
    }
   ],
   "source": [
    "s={1,2,1,2,1,5,1,1,100.101,3.5,\"hello\",\"hello\"}\n",
    "s"
   ]
  },
  {
   "cell_type": "code",
   "execution_count": 45,
   "metadata": {
    "colab": {
     "base_uri": "https://localhost:8080/",
     "height": 106
    },
    "executionInfo": {
     "elapsed": 1096,
     "status": "ok",
     "timestamp": 1601361622918,
     "user": {
      "displayName": "tejaswini tata",
      "photoUrl": "https://lh3.googleusercontent.com/a-/AOh14Ghjy-Y6nicJUYIPvUl-_GF9Owl-XY1RHENoBMMX=s64",
      "userId": "02334631379730592087"
     },
     "user_tz": -330
    },
    "id": "i6Dr0L-hkrO0",
    "outputId": "70090961-c714-4f73-e954-2ff09bc4c988"
   },
   "outputs": [
    {
     "name": "stdout",
     "output_type": "stream",
     "text": [
      "10\n",
      "20\n",
      "cook\n",
      "nice\n",
      "30\n"
     ]
    }
   ],
   "source": [
    "# Access the data by using for loop\n",
    "s={10,20,30,\"nice\",\"cook\"}\n",
    "for i in s:\n",
    "    print(i)"
   ]
  },
  {
   "cell_type": "code",
   "execution_count": 46,
   "metadata": {
    "colab": {
     "base_uri": "https://localhost:8080/",
     "height": 35
    },
    "executionInfo": {
     "elapsed": 1012,
     "status": "ok",
     "timestamp": 1601361858428,
     "user": {
      "displayName": "tejaswini tata",
      "photoUrl": "https://lh3.googleusercontent.com/a-/AOh14Ghjy-Y6nicJUYIPvUl-_GF9Owl-XY1RHENoBMMX=s64",
      "userId": "02334631379730592087"
     },
     "user_tz": -330
    },
    "id": "6PfugETCk7aA",
    "outputId": "ce109953-a778-4275-c5d0-0c9cd1691304"
   },
   "outputs": [
    {
     "data": {
      "text/plain": [
       "{(10, 20, 30), 1, 2, 3, 'good'}"
      ]
     },
     "execution_count": 46,
     "metadata": {
      "tags": []
     },
     "output_type": "execute_result"
    }
   ],
   "source": [
    "s={1,2,3,(10,20,30),\"good\"}\n",
    "s"
   ]
  },
  {
   "cell_type": "code",
   "execution_count": 47,
   "metadata": {
    "colab": {
     "base_uri": "https://localhost:8080/",
     "height": 35
    },
    "executionInfo": {
     "elapsed": 698,
     "status": "ok",
     "timestamp": 1601361903023,
     "user": {
      "displayName": "tejaswini tata",
      "photoUrl": "https://lh3.googleusercontent.com/a-/AOh14Ghjy-Y6nicJUYIPvUl-_GF9Owl-XY1RHENoBMMX=s64",
      "userId": "02334631379730592087"
     },
     "user_tz": -330
    },
    "id": "D9f1LLVclbgP",
    "outputId": "13edf291-57fc-4e1b-c05f-0493912f8ee6"
   },
   "outputs": [
    {
     "data": {
      "text/plain": [
       "{10, 20, 30}"
      ]
     },
     "execution_count": 47,
     "metadata": {
      "tags": []
     },
     "output_type": "execute_result"
    }
   ],
   "source": [
    "l=[10,20,10,20,30,30]\n",
    "s=set(l)\n",
    "s"
   ]
  },
  {
   "cell_type": "code",
   "execution_count": 48,
   "metadata": {
    "colab": {
     "base_uri": "https://localhost:8080/",
     "height": 941
    },
    "executionInfo": {
     "elapsed": 833,
     "status": "ok",
     "timestamp": 1601361912032,
     "user": {
      "displayName": "tejaswini tata",
      "photoUrl": "https://lh3.googleusercontent.com/a-/AOh14Ghjy-Y6nicJUYIPvUl-_GF9Owl-XY1RHENoBMMX=s64",
      "userId": "02334631379730592087"
     },
     "user_tz": -330
    },
    "id": "lJCQ4MX4m3dl",
    "outputId": "6f6b8123-901d-414d-da4c-24c49990fffe"
   },
   "outputs": [
    {
     "data": {
      "text/plain": [
       "['__and__',\n",
       " '__class__',\n",
       " '__contains__',\n",
       " '__delattr__',\n",
       " '__dir__',\n",
       " '__doc__',\n",
       " '__eq__',\n",
       " '__format__',\n",
       " '__ge__',\n",
       " '__getattribute__',\n",
       " '__gt__',\n",
       " '__hash__',\n",
       " '__iand__',\n",
       " '__init__',\n",
       " '__init_subclass__',\n",
       " '__ior__',\n",
       " '__isub__',\n",
       " '__iter__',\n",
       " '__ixor__',\n",
       " '__le__',\n",
       " '__len__',\n",
       " '__lt__',\n",
       " '__ne__',\n",
       " '__new__',\n",
       " '__or__',\n",
       " '__rand__',\n",
       " '__reduce__',\n",
       " '__reduce_ex__',\n",
       " '__repr__',\n",
       " '__ror__',\n",
       " '__rsub__',\n",
       " '__rxor__',\n",
       " '__setattr__',\n",
       " '__sizeof__',\n",
       " '__str__',\n",
       " '__sub__',\n",
       " '__subclasshook__',\n",
       " '__xor__',\n",
       " 'add',\n",
       " 'clear',\n",
       " 'copy',\n",
       " 'difference',\n",
       " 'difference_update',\n",
       " 'discard',\n",
       " 'intersection',\n",
       " 'intersection_update',\n",
       " 'isdisjoint',\n",
       " 'issubset',\n",
       " 'issuperset',\n",
       " 'pop',\n",
       " 'remove',\n",
       " 'symmetric_difference',\n",
       " 'symmetric_difference_update',\n",
       " 'union',\n",
       " 'update']"
      ]
     },
     "execution_count": 48,
     "metadata": {
      "tags": []
     },
     "output_type": "execute_result"
    }
   ],
   "source": [
    "dir(s)"
   ]
  },
  {
   "cell_type": "code",
   "execution_count": 49,
   "metadata": {
    "colab": {
     "base_uri": "https://localhost:8080/",
     "height": 34
    },
    "executionInfo": {
     "elapsed": 681,
     "status": "ok",
     "timestamp": 1601362045778,
     "user": {
      "displayName": "tejaswini tata",
      "photoUrl": "https://lh3.googleusercontent.com/a-/AOh14Ghjy-Y6nicJUYIPvUl-_GF9Owl-XY1RHENoBMMX=s64",
      "userId": "02334631379730592087"
     },
     "user_tz": -330
    },
    "id": "EtF_dRNCm5oF",
    "outputId": "07355bc6-2392-4f83-de15-1d7ab95a26f4"
   },
   "outputs": [
    {
     "data": {
      "text/plain": [
       "{1, 100, 2, 3, 4, 5, 'Hello'}"
      ]
     },
     "execution_count": 49,
     "metadata": {
      "tags": []
     },
     "output_type": "execute_result"
    }
   ],
   "source": [
    "s={1,2,3,4,5}\n",
    "s.add(\"Hello\")\n",
    "s.add(100)\n",
    "s"
   ]
  },
  {
   "cell_type": "code",
   "execution_count": 51,
   "metadata": {
    "colab": {
     "base_uri": "https://localhost:8080/",
     "height": 34
    },
    "executionInfo": {
     "elapsed": 1096,
     "status": "ok",
     "timestamp": 1601362086769,
     "user": {
      "displayName": "tejaswini tata",
      "photoUrl": "https://lh3.googleusercontent.com/a-/AOh14Ghjy-Y6nicJUYIPvUl-_GF9Owl-XY1RHENoBMMX=s64",
      "userId": "02334631379730592087"
     },
     "user_tz": -330
    },
    "id": "ovJytDsfnaTz",
    "outputId": "fab366a7-4b67-4fd4-91ec-eaf763785b71"
   },
   "outputs": [
    {
     "data": {
      "text/plain": [
       "set()"
      ]
     },
     "execution_count": 51,
     "metadata": {
      "tags": []
     },
     "output_type": "execute_result"
    }
   ],
   "source": [
    "s.clear()\n",
    "s"
   ]
  },
  {
   "cell_type": "code",
   "execution_count": 53,
   "metadata": {
    "colab": {
     "base_uri": "https://localhost:8080/",
     "height": 34
    },
    "executionInfo": {
     "elapsed": 1191,
     "status": "ok",
     "timestamp": 1601362174110,
     "user": {
      "displayName": "tejaswini tata",
      "photoUrl": "https://lh3.googleusercontent.com/a-/AOh14Ghjy-Y6nicJUYIPvUl-_GF9Owl-XY1RHENoBMMX=s64",
      "userId": "02334631379730592087"
     },
     "user_tz": -330
    },
    "id": "l7ij5BreneYs",
    "outputId": "27e4fd25-6d14-4bab-e39b-082170d7d342"
   },
   "outputs": [
    {
     "data": {
      "text/plain": [
       "{1, 2, 3, 4, 5}"
      ]
     },
     "execution_count": 53,
     "metadata": {
      "tags": []
     },
     "output_type": "execute_result"
    }
   ],
   "source": [
    "s={1,2,3,4,5}\n",
    "s_copy=s.copy()\n",
    "s_copy"
   ]
  },
  {
   "cell_type": "code",
   "execution_count": 63,
   "metadata": {
    "colab": {
     "base_uri": "https://localhost:8080/",
     "height": 34
    },
    "executionInfo": {
     "elapsed": 1100,
     "status": "ok",
     "timestamp": 1601362655816,
     "user": {
      "displayName": "tejaswini tata",
      "photoUrl": "https://lh3.googleusercontent.com/a-/AOh14Ghjy-Y6nicJUYIPvUl-_GF9Owl-XY1RHENoBMMX=s64",
      "userId": "02334631379730592087"
     },
     "user_tz": -330
    },
    "id": "gjH3FCzdn2ES",
    "outputId": "b3d1459a-c21a-415f-95eb-7de27dbd66df"
   },
   "outputs": [
    {
     "data": {
      "text/plain": [
       "{10, 20, 30}"
      ]
     },
     "execution_count": 63,
     "metadata": {
      "tags": []
     },
     "output_type": "execute_result"
    }
   ],
   "source": [
    "# Difference\n",
    "s1={1,2,3,4,5,6,7}\n",
    "s2={1,10,2,20,30,5}\n",
    "s1.difference(s2) #s1-s2\n",
    "s2.difference(s1) #s2-s1"
   ]
  },
  {
   "cell_type": "code",
   "execution_count": 58,
   "metadata": {
    "colab": {
     "base_uri": "https://localhost:8080/",
     "height": 34
    },
    "executionInfo": {
     "elapsed": 1073,
     "status": "ok",
     "timestamp": 1601362447821,
     "user": {
      "displayName": "tejaswini tata",
      "photoUrl": "https://lh3.googleusercontent.com/a-/AOh14Ghjy-Y6nicJUYIPvUl-_GF9Owl-XY1RHENoBMMX=s64",
      "userId": "02334631379730592087"
     },
     "user_tz": -330
    },
    "id": "cTAUc7ZwoTrq",
    "outputId": "5e9766a8-0905-44ba-b929-e1e1017a1cd6"
   },
   "outputs": [
    {
     "data": {
      "text/plain": [
       "{1, 2, 3, 4, 5, 6, 7}"
      ]
     },
     "execution_count": 58,
     "metadata": {
      "tags": []
     },
     "output_type": "execute_result"
    }
   ],
   "source": [
    "s1"
   ]
  },
  {
   "cell_type": "code",
   "execution_count": 59,
   "metadata": {
    "colab": {
     "base_uri": "https://localhost:8080/",
     "height": 34
    },
    "executionInfo": {
     "elapsed": 795,
     "status": "ok",
     "timestamp": 1601362486382,
     "user": {
      "displayName": "tejaswini tata",
      "photoUrl": "https://lh3.googleusercontent.com/a-/AOh14Ghjy-Y6nicJUYIPvUl-_GF9Owl-XY1RHENoBMMX=s64",
      "userId": "02334631379730592087"
     },
     "user_tz": -330
    },
    "id": "864sZRUbos8J",
    "outputId": "645252d2-7bd6-4dd7-f8ec-e421bdd2f4b9"
   },
   "outputs": [
    {
     "data": {
      "text/plain": [
       "{3, 4, 6, 7}"
      ]
     },
     "execution_count": 59,
     "metadata": {
      "tags": []
     },
     "output_type": "execute_result"
    }
   ],
   "source": [
    "s1.difference_update(s2)\n",
    "s1"
   ]
  },
  {
   "cell_type": "code",
   "execution_count": 61,
   "metadata": {
    "colab": {
     "base_uri": "https://localhost:8080/",
     "height": 34
    },
    "executionInfo": {
     "elapsed": 675,
     "status": "ok",
     "timestamp": 1601362566445,
     "user": {
      "displayName": "tejaswini tata",
      "photoUrl": "https://lh3.googleusercontent.com/a-/AOh14Ghjy-Y6nicJUYIPvUl-_GF9Owl-XY1RHENoBMMX=s64",
      "userId": "02334631379730592087"
     },
     "user_tz": -330
    },
    "id": "pZHvUV5lpF-c",
    "outputId": "97aa9ed0-6398-4a5c-8db7-fbd14440c065"
   },
   "outputs": [
    {
     "data": {
      "text/plain": [
       "{1, 3, 4, 5, 6, 7}"
      ]
     },
     "execution_count": 61,
     "metadata": {
      "tags": []
     },
     "output_type": "execute_result"
    }
   ],
   "source": [
    "s1={1,2,3,4,5,6,7}\n",
    "s1.discard(2)\n",
    "s1"
   ]
  },
  {
   "cell_type": "code",
   "execution_count": 64,
   "metadata": {
    "colab": {
     "base_uri": "https://localhost:8080/",
     "height": 34
    },
    "executionInfo": {
     "elapsed": 715,
     "status": "ok",
     "timestamp": 1601362754258,
     "user": {
      "displayName": "tejaswini tata",
      "photoUrl": "https://lh3.googleusercontent.com/a-/AOh14Ghjy-Y6nicJUYIPvUl-_GF9Owl-XY1RHENoBMMX=s64",
      "userId": "02334631379730592087"
     },
     "user_tz": -330
    },
    "id": "Yqo-DUDQpYaA",
    "outputId": "57f325e7-e8cb-4fca-d627-f1d1f958e07a"
   },
   "outputs": [
    {
     "data": {
      "text/plain": [
       "{1, 2, 5}"
      ]
     },
     "execution_count": 64,
     "metadata": {
      "tags": []
     },
     "output_type": "execute_result"
    }
   ],
   "source": [
    "s1={1,2,3,4,5,6,7}\n",
    "s2={1,10,2,20,30,5}\n",
    "s1.intersection(s2) #intersection is nothing but the common elements in 2 sets"
   ]
  },
  {
   "cell_type": "code",
   "execution_count": 66,
   "metadata": {
    "colab": {
     "base_uri": "https://localhost:8080/",
     "height": 34
    },
    "executionInfo": {
     "elapsed": 1635,
     "status": "ok",
     "timestamp": 1601362972889,
     "user": {
      "displayName": "tejaswini tata",
      "photoUrl": "https://lh3.googleusercontent.com/a-/AOh14Ghjy-Y6nicJUYIPvUl-_GF9Owl-XY1RHENoBMMX=s64",
      "userId": "02334631379730592087"
     },
     "user_tz": -330
    },
    "id": "Slr1D94FqHdO",
    "outputId": "af55b098-f9c6-4fd3-9203-81073fad987d"
   },
   "outputs": [
    {
     "data": {
      "text/plain": [
       "False"
      ]
     },
     "execution_count": 66,
     "metadata": {
      "tags": []
     },
     "output_type": "execute_result"
    }
   ],
   "source": [
    "s1={1,2,3,4,5}\n",
    "s2={10,20,30,40,50,1,2} # disjoint returns true when 2 sets have different values\n",
    "s1.isdisjoint(s2)"
   ]
  },
  {
   "cell_type": "code",
   "execution_count": 67,
   "metadata": {
    "colab": {
     "base_uri": "https://localhost:8080/",
     "height": 34
    },
    "executionInfo": {
     "elapsed": 680,
     "status": "ok",
     "timestamp": 1601363083881,
     "user": {
      "displayName": "tejaswini tata",
      "photoUrl": "https://lh3.googleusercontent.com/a-/AOh14Ghjy-Y6nicJUYIPvUl-_GF9Owl-XY1RHENoBMMX=s64",
      "userId": "02334631379730592087"
     },
     "user_tz": -330
    },
    "id": "6R1Tb4Tuq5D5",
    "outputId": "4f5573c3-632a-45a6-8d55-89ac3f5083dc"
   },
   "outputs": [
    {
     "data": {
      "text/plain": [
       "False"
      ]
     },
     "execution_count": 67,
     "metadata": {
      "tags": []
     },
     "output_type": "execute_result"
    }
   ],
   "source": [
    "s1={1,2,3,4,5,6}\n",
    "s2={1,2,3}\n",
    "s1.issubset(s2)"
   ]
  },
  {
   "cell_type": "code",
   "execution_count": 68,
   "metadata": {
    "colab": {
     "base_uri": "https://localhost:8080/",
     "height": 34
    },
    "executionInfo": {
     "elapsed": 713,
     "status": "ok",
     "timestamp": 1601363104318,
     "user": {
      "displayName": "tejaswini tata",
      "photoUrl": "https://lh3.googleusercontent.com/a-/AOh14Ghjy-Y6nicJUYIPvUl-_GF9Owl-XY1RHENoBMMX=s64",
      "userId": "02334631379730592087"
     },
     "user_tz": -330
    },
    "id": "wAbyMyrgrX6O",
    "outputId": "98d32383-30f0-4948-d0e4-7b1bb01c03d0"
   },
   "outputs": [
    {
     "data": {
      "text/plain": [
       "True"
      ]
     },
     "execution_count": 68,
     "metadata": {
      "tags": []
     },
     "output_type": "execute_result"
    }
   ],
   "source": [
    "s2.issubset(s1)"
   ]
  },
  {
   "cell_type": "code",
   "execution_count": 69,
   "metadata": {
    "colab": {
     "base_uri": "https://localhost:8080/",
     "height": 34
    },
    "executionInfo": {
     "elapsed": 1208,
     "status": "ok",
     "timestamp": 1601363155786,
     "user": {
      "displayName": "tejaswini tata",
      "photoUrl": "https://lh3.googleusercontent.com/a-/AOh14Ghjy-Y6nicJUYIPvUl-_GF9Owl-XY1RHENoBMMX=s64",
      "userId": "02334631379730592087"
     },
     "user_tz": -330
    },
    "id": "eIeIQZLcrctU",
    "outputId": "59c366ac-7e11-4e72-c872-4b8a8b7ab726"
   },
   "outputs": [
    {
     "data": {
      "text/plain": [
       "True"
      ]
     },
     "execution_count": 69,
     "metadata": {
      "tags": []
     },
     "output_type": "execute_result"
    }
   ],
   "source": [
    "s1={1,2,3,4,5,6}\n",
    "s2={1,2,3}\n",
    "s1.issuperset(s2)"
   ]
  },
  {
   "cell_type": "code",
   "execution_count": 70,
   "metadata": {
    "colab": {
     "base_uri": "https://localhost:8080/",
     "height": 34
    },
    "executionInfo": {
     "elapsed": 687,
     "status": "ok",
     "timestamp": 1601363186414,
     "user": {
      "displayName": "tejaswini tata",
      "photoUrl": "https://lh3.googleusercontent.com/a-/AOh14Ghjy-Y6nicJUYIPvUl-_GF9Owl-XY1RHENoBMMX=s64",
      "userId": "02334631379730592087"
     },
     "user_tz": -330
    },
    "id": "scVBgVQVrpYM",
    "outputId": "3612011d-470e-4b0e-f85b-bf027154cd25"
   },
   "outputs": [
    {
     "data": {
      "text/plain": [
       "False"
      ]
     },
     "execution_count": 70,
     "metadata": {
      "tags": []
     },
     "output_type": "execute_result"
    }
   ],
   "source": [
    "s2.issuperset(s1)"
   ]
  },
  {
   "cell_type": "code",
   "execution_count": 71,
   "metadata": {
    "colab": {
     "base_uri": "https://localhost:8080/",
     "height": 34
    },
    "executionInfo": {
     "elapsed": 1029,
     "status": "ok",
     "timestamp": 1601363281247,
     "user": {
      "displayName": "tejaswini tata",
      "photoUrl": "https://lh3.googleusercontent.com/a-/AOh14Ghjy-Y6nicJUYIPvUl-_GF9Owl-XY1RHENoBMMX=s64",
      "userId": "02334631379730592087"
     },
     "user_tz": -330
    },
    "id": "BjnXYQnprw1d",
    "outputId": "cc5ddda6-994e-4aff-e129-d7f5d86a7864"
   },
   "outputs": [
    {
     "data": {
      "text/plain": [
       "1"
      ]
     },
     "execution_count": 71,
     "metadata": {
      "tags": []
     },
     "output_type": "execute_result"
    }
   ],
   "source": [
    "s={10,20,1,2,3,4,5}\n",
    "s.pop()"
   ]
  },
  {
   "cell_type": "code",
   "execution_count": 72,
   "metadata": {
    "colab": {
     "base_uri": "https://localhost:8080/",
     "height": 34
    },
    "executionInfo": {
     "elapsed": 1056,
     "status": "ok",
     "timestamp": 1601363288889,
     "user": {
      "displayName": "tejaswini tata",
      "photoUrl": "https://lh3.googleusercontent.com/a-/AOh14Ghjy-Y6nicJUYIPvUl-_GF9Owl-XY1RHENoBMMX=s64",
      "userId": "02334631379730592087"
     },
     "user_tz": -330
    },
    "id": "F0YzF8CfsICc",
    "outputId": "c6381ca5-43fd-4f2e-9fc2-fc06d06e02e8"
   },
   "outputs": [
    {
     "data": {
      "text/plain": [
       "{2, 3, 4, 5, 10, 20}"
      ]
     },
     "execution_count": 72,
     "metadata": {
      "tags": []
     },
     "output_type": "execute_result"
    }
   ],
   "source": [
    "s"
   ]
  },
  {
   "cell_type": "code",
   "execution_count": 73,
   "metadata": {
    "colab": {
     "base_uri": "https://localhost:8080/",
     "height": 34
    },
    "executionInfo": {
     "elapsed": 1290,
     "status": "ok",
     "timestamp": 1601363338732,
     "user": {
      "displayName": "tejaswini tata",
      "photoUrl": "https://lh3.googleusercontent.com/a-/AOh14Ghjy-Y6nicJUYIPvUl-_GF9Owl-XY1RHENoBMMX=s64",
      "userId": "02334631379730592087"
     },
     "user_tz": -330
    },
    "id": "2qvOsa8qsJyT",
    "outputId": "bf0b11ed-ea8a-46d5-ef0c-292c0d515e1b"
   },
   "outputs": [
    {
     "data": {
      "text/plain": [
       "{1, 2, 3, 4, 5, 20}"
      ]
     },
     "execution_count": 73,
     "metadata": {
      "tags": []
     },
     "output_type": "execute_result"
    }
   ],
   "source": [
    "s={10,20,1,2,3,4,5}\n",
    "s.remove(10)\n",
    "s"
   ]
  },
  {
   "cell_type": "code",
   "execution_count": 75,
   "metadata": {
    "colab": {
     "base_uri": "https://localhost:8080/",
     "height": 34
    },
    "executionInfo": {
     "elapsed": 694,
     "status": "ok",
     "timestamp": 1601363372124,
     "user": {
      "displayName": "tejaswini tata",
      "photoUrl": "https://lh3.googleusercontent.com/a-/AOh14Ghjy-Y6nicJUYIPvUl-_GF9Owl-XY1RHENoBMMX=s64",
      "userId": "02334631379730592087"
     },
     "user_tz": -330
    },
    "id": "EqdAte2DsV0b",
    "outputId": "d8a456fd-b156-4525-dcf3-09a8e307c89f"
   },
   "outputs": [
    {
     "data": {
      "text/plain": [
       "{1, 2, 4, 5, 20}"
      ]
     },
     "execution_count": 75,
     "metadata": {
      "tags": []
     },
     "output_type": "execute_result"
    }
   ],
   "source": [
    "s.discard(30)\n",
    "s"
   ]
  },
  {
   "cell_type": "code",
   "execution_count": 76,
   "metadata": {
    "colab": {
     "base_uri": "https://localhost:8080/",
     "height": 34
    },
    "executionInfo": {
     "elapsed": 1642,
     "status": "ok",
     "timestamp": 1601363516241,
     "user": {
      "displayName": "tejaswini tata",
      "photoUrl": "https://lh3.googleusercontent.com/a-/AOh14Ghjy-Y6nicJUYIPvUl-_GF9Owl-XY1RHENoBMMX=s64",
      "userId": "02334631379730592087"
     },
     "user_tz": -330
    },
    "id": "C9yGaMNHsaxK",
    "outputId": "a8f65d8a-d386-4431-a023-3c0ad1fe0bd9"
   },
   "outputs": [
    {
     "data": {
      "text/plain": [
       "{3, 4, 5, 6, 7, 20, 30, 40, 50}"
      ]
     },
     "execution_count": 76,
     "metadata": {
      "tags": []
     },
     "output_type": "execute_result"
    }
   ],
   "source": [
    "a={1,2,3,4,5,6,7}\n",
    "b={1,2,30,20,40,50}\n",
    "a.symmetric_difference(b) # prints the elements that are not common"
   ]
  },
  {
   "cell_type": "code",
   "execution_count": 77,
   "metadata": {
    "colab": {
     "base_uri": "https://localhost:8080/",
     "height": 34
    },
    "executionInfo": {
     "elapsed": 1655,
     "status": "ok",
     "timestamp": 1601363591944,
     "user": {
      "displayName": "tejaswini tata",
      "photoUrl": "https://lh3.googleusercontent.com/a-/AOh14Ghjy-Y6nicJUYIPvUl-_GF9Owl-XY1RHENoBMMX=s64",
      "userId": "02334631379730592087"
     },
     "user_tz": -330
    },
    "id": "LA4Y4UEntK7k",
    "outputId": "d8a40ecb-efaa-45c7-a308-7d5ceccbb069"
   },
   "outputs": [
    {
     "data": {
      "text/plain": [
       "{1, 2, 3, 4, 5, 6, 7}"
      ]
     },
     "execution_count": 77,
     "metadata": {
      "tags": []
     },
     "output_type": "execute_result"
    }
   ],
   "source": [
    "a"
   ]
  },
  {
   "cell_type": "code",
   "execution_count": 78,
   "metadata": {
    "colab": {
     "base_uri": "https://localhost:8080/",
     "height": 34
    },
    "executionInfo": {
     "elapsed": 2368,
     "status": "ok",
     "timestamp": 1601363599745,
     "user": {
      "displayName": "tejaswini tata",
      "photoUrl": "https://lh3.googleusercontent.com/a-/AOh14Ghjy-Y6nicJUYIPvUl-_GF9Owl-XY1RHENoBMMX=s64",
      "userId": "02334631379730592087"
     },
     "user_tz": -330
    },
    "id": "z-ByyuyvtA4B",
    "outputId": "5512aa20-4e3d-41e8-ecea-71b5feeb40f4"
   },
   "outputs": [
    {
     "data": {
      "text/plain": [
       "{1, 2, 20, 30, 40, 50}"
      ]
     },
     "execution_count": 78,
     "metadata": {
      "tags": []
     },
     "output_type": "execute_result"
    }
   ],
   "source": [
    "b"
   ]
  },
  {
   "cell_type": "code",
   "execution_count": 79,
   "metadata": {
    "colab": {
     "base_uri": "https://localhost:8080/",
     "height": 34
    },
    "executionInfo": {
     "elapsed": 649,
     "status": "ok",
     "timestamp": 1601363625751,
     "user": {
      "displayName": "tejaswini tata",
      "photoUrl": "https://lh3.googleusercontent.com/a-/AOh14Ghjy-Y6nicJUYIPvUl-_GF9Owl-XY1RHENoBMMX=s64",
      "userId": "02334631379730592087"
     },
     "user_tz": -330
    },
    "id": "RMYW6XB-tU_Z",
    "outputId": "178d06eb-9330-450d-c4cc-82a0a8046b4f"
   },
   "outputs": [
    {
     "data": {
      "text/plain": [
       "{3, 4, 5, 6, 7, 20, 30, 40, 50}"
      ]
     },
     "execution_count": 79,
     "metadata": {
      "tags": []
     },
     "output_type": "execute_result"
    }
   ],
   "source": [
    "a.symmetric_difference_update(b)\n",
    "a"
   ]
  },
  {
   "cell_type": "code",
   "execution_count": 80,
   "metadata": {
    "colab": {
     "base_uri": "https://localhost:8080/",
     "height": 34
    },
    "executionInfo": {
     "elapsed": 659,
     "status": "ok",
     "timestamp": 1601363774444,
     "user": {
      "displayName": "tejaswini tata",
      "photoUrl": "https://lh3.googleusercontent.com/a-/AOh14Ghjy-Y6nicJUYIPvUl-_GF9Owl-XY1RHENoBMMX=s64",
      "userId": "02334631379730592087"
     },
     "user_tz": -330
    },
    "id": "iBy_N4MstcH5",
    "outputId": "58cd92e5-2e79-481f-9641-9d6e3b58b192"
   },
   "outputs": [
    {
     "data": {
      "text/plain": [
       "{1, 2, 3, 4, 5, 6, 7, 8, 9}"
      ]
     },
     "execution_count": 80,
     "metadata": {
      "tags": []
     },
     "output_type": "execute_result"
    }
   ],
   "source": [
    "a={1,2,3,4}\n",
    "b={5,6,7,8,9}\n",
    "a.union(b) # prints the elements that are present in both sets"
   ]
  },
  {
   "cell_type": "code",
   "execution_count": null,
   "metadata": {
    "id": "dQnziodsuAbJ"
   },
   "outputs": [],
   "source": []
  }
 ],
 "metadata": {
  "colab": {
   "authorship_tag": "ABX9TyPuC6BkHW8bOtDfFc8YLTUK",
   "collapsed_sections": [],
   "name": "Day14(29-09-20).ipynb",
   "provenance": []
  },
  "kernelspec": {
   "display_name": "Python 3",
   "language": "python",
   "name": "python3"
  },
  "language_info": {
   "codemirror_mode": {
    "name": "ipython",
    "version": 3
   },
   "file_extension": ".py",
   "mimetype": "text/x-python",
   "name": "python",
   "nbconvert_exporter": "python",
   "pygments_lexer": "ipython3",
   "version": "3.7.4"
  }
 },
 "nbformat": 4,
 "nbformat_minor": 1
}
